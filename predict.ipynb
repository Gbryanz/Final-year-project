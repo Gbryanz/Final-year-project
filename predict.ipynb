{
 "cells": [
  {
   "cell_type": "code",
   "execution_count": 18,
   "metadata": {},
   "outputs": [],
   "source": [
    "from pathlib import Path\n",
    "import matplotlib.pyplot as plt\n",
    "import numpy as np\n",
    "#%matplotlib notebook\n",
    "from sklearn import svm, metrics, datasets\n",
    "from sklearn.utils import Bunch\n",
    "from sklearn.model_selection import GridSearchCV, train_test_split\n",
    "import pickle\n",
    "from skimage.io import imread\n",
    "from skimage.transform import resize\n",
    "import skimage\n",
    "import os"
   ]
  },
  {
   "cell_type": "code",
   "execution_count": 19,
   "metadata": {},
   "outputs": [],
   "source": [
    "model=pickle.load(open('./naive_bayes.pkl','rb'))\n",
    "labels=['basal cell carcinoma', 'melanoma', 'naevus']"
   ]
  },
  {
   "cell_type": "code",
   "execution_count": 20,
   "metadata": {},
   "outputs": [],
   "source": [
    "images = []\n",
    "flat_data = []\n",
    "path = './predict/'\n",
    "files = os.listdir(path)"
   ]
  },
  {
   "cell_type": "code",
   "execution_count": 21,
   "metadata": {},
   "outputs": [],
   "source": [
    "for file in files:\n",
    "    img = skimage.io.imread(path + file)\n",
    "    flat_data.append(img.flatten())\n",
    "    images.append(img)"
   ]
  },
  {
   "cell_type": "code",
   "execution_count": 22,
   "metadata": {},
   "outputs": [],
   "source": [
    "flat_data = np.array(flat_data)\n",
    "images = np.array(images)\n",
    "test_data = Bunch(data=flat_data, images=images)\n"
   ]
  },
  {
   "cell_type": "code",
   "execution_count": 23,
   "metadata": {},
   "outputs": [],
   "source": [
    "predictions = model.predict(test_data.data)\n"
   ]
  },
  {
   "cell_type": "code",
   "execution_count": 24,
   "metadata": {},
   "outputs": [
    {
     "name": "stdout",
     "output_type": "stream",
     "text": [
      "Prediction for melanoma521443_resized_hog.jpg: naevus\n",
      "Prediction for melanoma896_resized_hog.jpg: melanoma\n"
     ]
    }
   ],
   "source": [
    "for i, prediction in enumerate(predictions):\n",
    "    print(f\"Prediction for {files[i]}: {labels[prediction]}\")"
   ]
  }
 ],
 "metadata": {
  "kernelspec": {
   "display_name": "venv",
   "language": "python",
   "name": "python3"
  },
  "language_info": {
   "codemirror_mode": {
    "name": "ipython",
    "version": 3
   },
   "file_extension": ".py",
   "mimetype": "text/x-python",
   "name": "python",
   "nbconvert_exporter": "python",
   "pygments_lexer": "ipython3",
   "version": "3.12.2"
  }
 },
 "nbformat": 4,
 "nbformat_minor": 2
}
