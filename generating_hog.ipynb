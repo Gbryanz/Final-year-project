{
 "cells": [
  {
   "cell_type": "code",
   "execution_count": 10,
   "metadata": {},
   "outputs": [],
   "source": [
    "from skimage.io import imread, imshow\n",
    "from skimage.transform import resize\n",
    "from skimage.feature import hog\n",
    "from skimage import exposure\n",
    "import matplotlib.pyplot as plt\n",
    "from PIL import Image\n",
    "import os,sys\n",
    "import matplotlib.pyplot as plt\n",
    "from pathlib import Path\n",
    "import numpy as np\n",
    "# %matplotlib notebook\n",
    "from sklearn import svm, metrics, datasets\n",
    "from sklearn.utils import Bunch\n",
    "from sklearn.model_selection import GridSearchCV, train_test_split\n",
    "import skimage"
   ]
  },
  {
   "cell_type": "code",
   "execution_count": 11,
   "metadata": {},
   "outputs": [],
   "source": [
    "path=r'./mdenode_resized/'"
   ]
  },
  {
   "cell_type": "code",
   "execution_count": 12,
   "metadata": {},
   "outputs": [],
   "source": [
    "dirs=os.listdir(path)"
   ]
  },
  {
   "cell_type": "code",
   "execution_count": 13,
   "metadata": {},
   "outputs": [],
   "source": [
    "def save_hog():\n",
    "    for item in dirs:\n",
    "        item_path = os.path.join(path, item)  # Improved path handling\n",
    "        for img in os.listdir(item_path):\n",
    "            img_path = os.path.join(item_path, img)\n",
    "            if os.path.isfile(img_path):\n",
    "                try:\n",
    "                    im = skimage.io.imread(img_path)  # Using skimage for reading the image\n",
    "                    img_eq = exposure.equalize_hist(im)\n",
    "                    f, e = os.path.splitext(img)\n",
    "                    fd, hog_image = hog(img_eq, orientations=9, pixels_per_cell=(8, 8), cells_per_block=(2, 2), visualize=True, channel_axis=-1)\n",
    "                    hog_image_rescaled = exposure.rescale_intensity(hog_image, in_range=(0, 10))\n",
    "                    save_path = os.path.join(item_path, f + '_hog.jpg')  # Improved path handling\n",
    "                    plt.imsave(save_path, hog_image_rescaled, cmap='Greys')\n",
    "                except Exception as e:\n",
    "                    print(f\"Error processing {img_path}: {e}\")"
   ]
  },
  {
   "cell_type": "code",
   "execution_count": 14,
   "metadata": {},
   "outputs": [],
   "source": [
    "save_hog()"
   ]
  },
  {
   "cell_type": "code",
   "execution_count": null,
   "metadata": {},
   "outputs": [],
   "source": []
  }
 ],
 "metadata": {
  "kernelspec": {
   "display_name": "venv",
   "language": "python",
   "name": "python3"
  },
  "language_info": {
   "codemirror_mode": {
    "name": "ipython",
    "version": 3
   },
   "file_extension": ".py",
   "mimetype": "text/x-python",
   "name": "python",
   "nbconvert_exporter": "python",
   "pygments_lexer": "ipython3",
   "version": "3.12.2"
  }
 },
 "nbformat": 4,
 "nbformat_minor": 2
}
